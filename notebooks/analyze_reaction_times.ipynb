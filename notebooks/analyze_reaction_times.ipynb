{
 "cells": [
  {
   "cell_type": "markdown",
   "id": "692b9b8f-b0a4-43ce-a0a6-6645c3a7fe7b",
   "metadata": {
    "editable": true,
    "slideshow": {
     "slide_type": ""
    },
    "tags": []
   },
   "source": [
    "# analyze_reaction_times\n",
    "\n",
    "Performs analysis of reaction time data for subjects categorizing images of animals. The data is simulated and the code is meant only to demonstrate basics of paths and file handling. See the `README.md` for further information.\n",
    "\n",
    "Part of the *Computational Fluency Short Course* offered in 2024 by Brown University's Carney Institute. Intended only for educational purposes; use at your own risk."
   ]
  },
  {
   "cell_type": "code",
   "execution_count": 56,
   "id": "17a3e4a1-c723-4518-a82e-0fc45858a9fc",
   "metadata": {},
   "outputs": [],
   "source": [
    "# Import block\n",
    "# Loads packages that extends base python\n",
    "\n",
    "import os  # Operating system utilities\n",
    "\n",
    "import pandas as pd  # Common package for working with tabular data"
   ]
  },
  {
   "cell_type": "markdown",
   "id": "7651196b-3554-4319-a713-da617aa3776b",
   "metadata": {},
   "source": [
    "## Getting paths to the data\n",
    "\n",
    "As described in the course, different operating systems use slightly different conventions for describing paths. The most notable differences are that Linux and Mac use `/` as a separator while Windows uses `\\`, and the root directory on Linux and Max is `/`, while the Windows root is (usually) `C:\\`.\n",
    "\n",
    "In order to write code that works across operating systems, we have to check the OS and figure out the right convention to use. As a convenience, `python` provides the `os` module that does the work for us.\n",
    "\n",
    "A second issue is that we have to know where the data is, but if we use an absolute path that is correct on our computer, it will break when moved to a different computer. One way we can try to handle this situation is with *relative paths*, assuming we know the working directory set when the notebook starts up (sometimes this breaks also, especially on remote systems, and some troubleshooting is required). By default, opening a notebook within Jupyter Lab sets that notebook's local as the working dirtectory. "
   ]
  },
  {
   "cell_type": "code",
   "execution_count": 58,
   "id": "c15b32c9-9afe-4dc4-bf84-d40cc5452030",
   "metadata": {},
   "outputs": [
    {
     "ename": "",
     "evalue": "",
     "output_type": "error",
     "traceback": [
      "\u001b[1;31mThe Kernel crashed while executing code in the current cell or a previous cell. \n",
      "\u001b[1;31mPlease review the code in the cell(s) to identify a possible cause of the failure. \n",
      "\u001b[1;31mClick <a href='https://aka.ms/vscodeJupyterKernelCrash'>here</a> for more info. \n",
      "\u001b[1;31mView Jupyter <a href='command:jupyter.viewOutput'>log</a> for further details."
     ]
    }
   ],
   "source": [
    "# First pass at loading a data file:\n",
    "# Just assume it is in the current working directory\n",
    "\n",
    "df = pd.read_csv(\"..\\\\testdata\\\\sub-1\\\\sub-1_task-class_beh.csv\")  # This will fail !"
   ]
  },
  {
   "cell_type": "code",
   "execution_count": null,
   "id": "ef2298aa-1e39-40eb-a539-36dc43304efa",
   "metadata": {},
   "outputs": [],
   "source": [
    "# Second pass at loading a data file:\n",
    "# Use the absolute path on \"my\" computer\n",
    "\n",
    "df = pd.read_csv('/Users/jritt/QENC/Teaching/2024_Spring/ComputationalFluency_2024/Content/Public/cfsc2024-ex-paths/testdata/sub-1/sub-1_task-class_beh.csv')\n",
    "# This will fail on everyone's computer except mine!"
   ]
  },
  {
   "cell_type": "markdown",
   "id": "e6af8d06-6280-48a1-8818-6688a55018b8",
   "metadata": {},
   "source": [
    "So how do we make a more sharable, portable data load? We need to build a path to a data directory. This repo includes small data files (remember to avoid large files in git repos!) in a directory called testdata.\n",
    "\n",
    "We also use the `os` module to deal with driectory names."
   ]
  },
  {
   "cell_type": "code",
   "execution_count": null,
   "id": "62ebb5c8-2010-4aa6-aa9e-83e6ef6721b0",
   "metadata": {},
   "outputs": [],
   "source": [
    "# Put together a path to the data\n",
    "\n",
    "# Look at the python kernel's working directory\n",
    "# Note this directory may not match wherever you started Jupyter Lab\n",
    "cwd = os.getcwd()  \n",
    "print(f'Current working directory:\\n{cwd}\\n')\n",
    "\n",
    "# Make a relative path to the data\n",
    "data_dir_rel = os.path.join('..','testdata')  # join adds the correct path separator\n",
    "# Doube dots \"..\" mean \"go up one directory\"\n",
    "print(f'Relative path to data:\\n{data_dir_rel}\\n')\n",
    "\n",
    "# Convert a relative path to absolute path\n",
    "data_dir = os.path.abspath(data_dir_rel)  \n",
    "print(f'Absolute path to data:\\n{data_dir}\\n')"
   ]
  },
  {
   "cell_type": "markdown",
   "id": "df85a1d4-d3d6-420e-bfc9-331c7f3e50eb",
   "metadata": {},
   "source": [
    "Now we look in the data directory to find subject-wise subdirectories, and continue down to the data files.\n",
    "\n",
    "**Note**: It's usually a bad idea to blindly loop through everything within a directory. There will often be other kinds of files in there, either intentionally (like an index of subjects) or unintenitionally (automatically generated files and/or dot-files)."
   ]
  },
  {
   "cell_type": "code",
   "execution_count": null,
   "id": "f05977dc-42fc-4ecb-8dd7-2133e45ef3c2",
   "metadata": {},
   "outputs": [],
   "source": [
    "print(f'Content of {data_dir}:\\n')\n",
    "for name in os.listdir(data_dir):\n",
    "    is_subject = str.startswith(name,'sub-')  # Test the name\n",
    "    if is_subject:\n",
    "        print(f'Found subject data directory: {name}')\n",
    "    else:\n",
    "        print(f'Skipping other file {name}')\n",
    "print('\\n')"
   ]
  },
  {
   "cell_type": "markdown",
   "id": "6edd1283-72e6-4292-92b2-52794210b1a2",
   "metadata": {},
   "source": [
    "## Manually load some data\n",
    "\n",
    "As a demonstration, we load a single data file, and look at its contents."
   ]
  },
  {
   "cell_type": "code",
   "execution_count": 50,
   "id": "f92e94cc-2474-408f-a11b-ca1ce29382fb",
   "metadata": {},
   "outputs": [
    {
     "name": "stdout",
     "output_type": "stream",
     "text": [
      "Loading data at c:\\Users\\MADic\\Documents\\GitHub\\cfsc2024-ex-paths-fork1\\testdata\\sub-1\\sub-1_task-class_beh.csv\n"
     ]
    }
   ],
   "source": [
    "filepath = os.path.join(data_dir,'sub-1','sub-1_task-class_beh.csv')\n",
    "print(f'Loading data at {filepath}')\n",
    "\n",
    "df = pd.read_csv(filepath)  # Load data as a Pandas DataFrame"
   ]
  },
  {
   "cell_type": "code",
   "execution_count": null,
   "id": "70009434-4563-4132-bb2a-fc37773fb567",
   "metadata": {},
   "outputs": [],
   "source": [
    "df.info()"
   ]
  },
  {
   "cell_type": "code",
   "execution_count": null,
   "id": "cd441a10-4992-4231-8893-3fc8c4bab3c2",
   "metadata": {},
   "outputs": [],
   "source": [
    "df"
   ]
  },
  {
   "cell_type": "code",
   "execution_count": null,
   "id": "4469ea10-0ea3-4c6a-8bec-9befce3a7f3b",
   "metadata": {},
   "outputs": [],
   "source": [
    "# Extract columns by name\n",
    "print('The set of reaction times is\\n', df[\"ReactionTime\"] )\n",
    "\n",
    "# Extract operations on columns via \"methods\"\n",
    "print(f'\\nThe mean reaction time is { df[\"ReactionTime\"].mean() } seconds')"
   ]
  },
  {
   "cell_type": "code",
   "execution_count": null,
   "id": "3f23d126-317c-4c85-93f2-51badb8a6f35",
   "metadata": {},
   "outputs": [],
   "source": [
    "# Optional Exercise: find the standard deviation of RTs\n",
    "print(f\"The STD: {df[\"ReactionTime\"].std()} seconds\")\n",
    "std= df[\"ReactionTime\"].std()"
   ]
  },
  {
   "cell_type": "code",
   "execution_count": 51,
   "id": "3319abe6-9973-495b-9467-c895deda0604",
   "metadata": {},
   "outputs": [
    {
     "name": "stdout",
     "output_type": "stream",
     "text": [
      "\n",
      "\n",
      "\n",
      "\n",
      "\n",
      "\n",
      "\n",
      "\n",
      "\n",
      "\n",
      "\n",
      "\n",
      "\n",
      "\n",
      "\n"
     ]
    },
    {
     "data": {
      "text/html": [
       "<div>\n",
       "<style scoped>\n",
       "    .dataframe tbody tr th:only-of-type {\n",
       "        vertical-align: middle;\n",
       "    }\n",
       "\n",
       "    .dataframe tbody tr th {\n",
       "        vertical-align: top;\n",
       "    }\n",
       "\n",
       "    .dataframe thead th {\n",
       "        text-align: right;\n",
       "    }\n",
       "</style>\n",
       "<table border=\"1\" class=\"dataframe\">\n",
       "  <thead>\n",
       "    <tr style=\"text-align: right;\">\n",
       "      <th></th>\n",
       "      <th>SubjectID</th>\n",
       "      <th>TrialNum</th>\n",
       "      <th>StimulusID</th>\n",
       "      <th>TrialType</th>\n",
       "      <th>Response</th>\n",
       "      <th>ReactionTime</th>\n",
       "      <th>z-scored</th>\n",
       "    </tr>\n",
       "  </thead>\n",
       "  <tbody>\n",
       "    <tr>\n",
       "      <th>0</th>\n",
       "      <td>1</td>\n",
       "      <td>1</td>\n",
       "      <td>d05</td>\n",
       "      <td>dog</td>\n",
       "      <td>cat</td>\n",
       "      <td>0.5555</td>\n",
       "      <td>-1.403414</td>\n",
       "    </tr>\n",
       "    <tr>\n",
       "      <th>1</th>\n",
       "      <td>1</td>\n",
       "      <td>2</td>\n",
       "      <td>b04</td>\n",
       "      <td>bird</td>\n",
       "      <td>bird</td>\n",
       "      <td>0.8708</td>\n",
       "      <td>0.255989</td>\n",
       "    </tr>\n",
       "    <tr>\n",
       "      <th>2</th>\n",
       "      <td>1</td>\n",
       "      <td>3</td>\n",
       "      <td>b01</td>\n",
       "      <td>bird</td>\n",
       "      <td>bird</td>\n",
       "      <td>0.8358</td>\n",
       "      <td>0.071786</td>\n",
       "    </tr>\n",
       "    <tr>\n",
       "      <th>3</th>\n",
       "      <td>1</td>\n",
       "      <td>4</td>\n",
       "      <td>c02</td>\n",
       "      <td>cat</td>\n",
       "      <td>cat</td>\n",
       "      <td>1.1063</td>\n",
       "      <td>1.495410</td>\n",
       "    </tr>\n",
       "    <tr>\n",
       "      <th>4</th>\n",
       "      <td>1</td>\n",
       "      <td>5</td>\n",
       "      <td>d03</td>\n",
       "      <td>dog</td>\n",
       "      <td>dog</td>\n",
       "      <td>0.7613</td>\n",
       "      <td>-0.320302</td>\n",
       "    </tr>\n",
       "    <tr>\n",
       "      <th>5</th>\n",
       "      <td>1</td>\n",
       "      <td>6</td>\n",
       "      <td>b05</td>\n",
       "      <td>bird</td>\n",
       "      <td>bird</td>\n",
       "      <td>1.1252</td>\n",
       "      <td>1.594880</td>\n",
       "    </tr>\n",
       "    <tr>\n",
       "      <th>6</th>\n",
       "      <td>1</td>\n",
       "      <td>7</td>\n",
       "      <td>b03</td>\n",
       "      <td>bird</td>\n",
       "      <td>bird</td>\n",
       "      <td>1.0052</td>\n",
       "      <td>0.963328</td>\n",
       "    </tr>\n",
       "    <tr>\n",
       "      <th>7</th>\n",
       "      <td>1</td>\n",
       "      <td>8</td>\n",
       "      <td>c05</td>\n",
       "      <td>cat</td>\n",
       "      <td>cat</td>\n",
       "      <td>0.8584</td>\n",
       "      <td>0.190729</td>\n",
       "    </tr>\n",
       "    <tr>\n",
       "      <th>8</th>\n",
       "      <td>1</td>\n",
       "      <td>9</td>\n",
       "      <td>c04</td>\n",
       "      <td>cat</td>\n",
       "      <td>dog</td>\n",
       "      <td>0.6823</td>\n",
       "      <td>-0.736074</td>\n",
       "    </tr>\n",
       "    <tr>\n",
       "      <th>9</th>\n",
       "      <td>1</td>\n",
       "      <td>10</td>\n",
       "      <td>b02</td>\n",
       "      <td>bird</td>\n",
       "      <td>bird</td>\n",
       "      <td>0.8660</td>\n",
       "      <td>0.230727</td>\n",
       "    </tr>\n",
       "    <tr>\n",
       "      <th>10</th>\n",
       "      <td>1</td>\n",
       "      <td>11</td>\n",
       "      <td>d02</td>\n",
       "      <td>dog</td>\n",
       "      <td>cat</td>\n",
       "      <td>0.3949</td>\n",
       "      <td>-2.248642</td>\n",
       "    </tr>\n",
       "    <tr>\n",
       "      <th>11</th>\n",
       "      <td>1</td>\n",
       "      <td>12</td>\n",
       "      <td>d01</td>\n",
       "      <td>dog</td>\n",
       "      <td>dog</td>\n",
       "      <td>0.8764</td>\n",
       "      <td>0.285462</td>\n",
       "    </tr>\n",
       "    <tr>\n",
       "      <th>12</th>\n",
       "      <td>1</td>\n",
       "      <td>13</td>\n",
       "      <td>c03</td>\n",
       "      <td>cat</td>\n",
       "      <td>cat</td>\n",
       "      <td>0.8045</td>\n",
       "      <td>-0.092943</td>\n",
       "    </tr>\n",
       "    <tr>\n",
       "      <th>13</th>\n",
       "      <td>1</td>\n",
       "      <td>14</td>\n",
       "      <td>c01</td>\n",
       "      <td>cat</td>\n",
       "      <td>cat</td>\n",
       "      <td>0.7177</td>\n",
       "      <td>-0.549766</td>\n",
       "    </tr>\n",
       "    <tr>\n",
       "      <th>14</th>\n",
       "      <td>1</td>\n",
       "      <td>15</td>\n",
       "      <td>d04</td>\n",
       "      <td>dog</td>\n",
       "      <td>dog</td>\n",
       "      <td>0.8721</td>\n",
       "      <td>0.262831</td>\n",
       "    </tr>\n",
       "  </tbody>\n",
       "</table>\n",
       "</div>"
      ],
      "text/plain": [
       "    SubjectID  TrialNum StimulusID TrialType Response  ReactionTime  z-scored\n",
       "0           1         1        d05       dog      cat        0.5555 -1.403414\n",
       "1           1         2        b04      bird     bird        0.8708  0.255989\n",
       "2           1         3        b01      bird     bird        0.8358  0.071786\n",
       "3           1         4        c02       cat      cat        1.1063  1.495410\n",
       "4           1         5        d03       dog      dog        0.7613 -0.320302\n",
       "5           1         6        b05      bird     bird        1.1252  1.594880\n",
       "6           1         7        b03      bird     bird        1.0052  0.963328\n",
       "7           1         8        c05       cat      cat        0.8584  0.190729\n",
       "8           1         9        c04       cat      dog        0.6823 -0.736074\n",
       "9           1        10        b02      bird     bird        0.8660  0.230727\n",
       "10          1        11        d02       dog      cat        0.3949 -2.248642\n",
       "11          1        12        d01       dog      dog        0.8764  0.285462\n",
       "12          1        13        c03       cat      cat        0.8045 -0.092943\n",
       "13          1        14        c01       cat      cat        0.7177 -0.549766\n",
       "14          1        15        d04       dog      dog        0.8721  0.262831"
      ]
     },
     "execution_count": 51,
     "metadata": {},
     "output_type": "execute_result"
    }
   ],
   "source": [
    "# Optional Exercise: use the above results to make \"z-scored\" RTs, that is, \n",
    "#   subtract the mean and then divide by the standard deviation for all trials\n",
    "z = []\n",
    "for i in range(df.shape[0]):\n",
    "    print()\n",
    "    z.append((df.iloc[i][\"ReactionTime\"] - df[\"ReactionTime\"].mean()) / std)\n",
    "    \n",
    "df.insert(df.shape[1], \"z-scored\", z, True)\n",
    "df\n",
    "\n"
   ]
  },
  {
   "cell_type": "code",
   "execution_count": 57,
   "id": "30dea9eb-f0b3-4da7-ac42-a9efe87fe74f",
   "metadata": {},
   "outputs": [
    {
     "name": "stdout",
     "output_type": "stream",
     "text": [
      "Loading data at c:\\Users\\MADic\\Documents\\GitHub\\cfsc2024-ex-paths-fork1\\testdata\\sub-1\\sub-1_task-class_beh.csv\n"
     ]
    },
    {
     "ename": "AttributeError",
     "evalue": "'DataFrame' object has no attribute 'read_csv'",
     "output_type": "error",
     "traceback": [
      "\u001b[1;31m---------------------------------------------------------------------------\u001b[0m",
      "\u001b[1;31mAttributeError\u001b[0m                            Traceback (most recent call last)",
      "\u001b[1;32m~\\AppData\\Local\\Temp\\ipykernel_54716\\1560147405.py\u001b[0m in \u001b[0;36m?\u001b[1;34m()\u001b[0m\n\u001b[0;32m      6\u001b[0m     \u001b[0mis_subject\u001b[0m \u001b[1;33m=\u001b[0m \u001b[0mstr\u001b[0m\u001b[1;33m.\u001b[0m\u001b[0mstartswith\u001b[0m\u001b[1;33m(\u001b[0m\u001b[0mname\u001b[0m\u001b[1;33m,\u001b[0m\u001b[1;34m'sub-'\u001b[0m\u001b[1;33m)\u001b[0m  \u001b[1;31m# Test the name\u001b[0m\u001b[1;33m\u001b[0m\u001b[1;33m\u001b[0m\u001b[0m\n\u001b[0;32m      7\u001b[0m     \u001b[1;32mif\u001b[0m \u001b[0mis_subject\u001b[0m\u001b[1;33m:\u001b[0m\u001b[1;33m\u001b[0m\u001b[1;33m\u001b[0m\u001b[0m\n\u001b[0;32m      8\u001b[0m         \u001b[0mfilepath\u001b[0m \u001b[1;33m=\u001b[0m \u001b[0mos\u001b[0m\u001b[1;33m.\u001b[0m\u001b[0mpath\u001b[0m\u001b[1;33m.\u001b[0m\u001b[0mjoin\u001b[0m\u001b[1;33m(\u001b[0m\u001b[0mdata_dir\u001b[0m\u001b[1;33m,\u001b[0m\u001b[1;33mf'\u001b[0m\u001b[1;33msub-\u001b[0m\u001b[1;33m{\u001b[0m\u001b[0mindex\u001b[0m\u001b[1;33m}\u001b[0m\u001b[1;33m'\u001b[0m\u001b[1;33m,\u001b[0m\u001b[1;33mf'\u001b[0m\u001b[1;33msub-\u001b[0m\u001b[1;33m{\u001b[0m\u001b[0mindex\u001b[0m\u001b[1;33m}\u001b[0m\u001b[1;33m_task-class_beh.csv\u001b[0m\u001b[1;33m'\u001b[0m\u001b[1;33m)\u001b[0m\u001b[1;33m\u001b[0m\u001b[1;33m\u001b[0m\u001b[0m\n\u001b[0;32m      9\u001b[0m         \u001b[0mprint\u001b[0m\u001b[1;33m(\u001b[0m\u001b[1;33mf'\u001b[0m\u001b[1;33mLoading data at \u001b[0m\u001b[1;33m{\u001b[0m\u001b[0mfilepath\u001b[0m\u001b[1;33m}\u001b[0m\u001b[1;33m'\u001b[0m\u001b[1;33m)\u001b[0m\u001b[1;33m\u001b[0m\u001b[1;33m\u001b[0m\u001b[0m\n\u001b[1;32m---> 10\u001b[1;33m         \u001b[0mdf\u001b[0m \u001b[1;33m=\u001b[0m \u001b[0mdf\u001b[0m\u001b[1;33m.\u001b[0m\u001b[0mread_csv\u001b[0m\u001b[1;33m(\u001b[0m\u001b[0mfilepath\u001b[0m\u001b[1;33m)\u001b[0m   \u001b[1;31m# Read the correct csv file.\u001b[0m\u001b[1;33m\u001b[0m\u001b[1;33m\u001b[0m\u001b[0m\n\u001b[0m\u001b[0;32m     11\u001b[0m         \u001b[0mz\u001b[0m\u001b[1;33m.\u001b[0m\u001b[0mappend\u001b[0m\u001b[1;33m(\u001b[0m\u001b[0mdf\u001b[0m\u001b[1;33m[\u001b[0m\u001b[1;34m\"ReactionTime\"\u001b[0m\u001b[1;33m]\u001b[0m\u001b[1;33m.\u001b[0m\u001b[0mmean\u001b[0m\u001b[1;33m(\u001b[0m\u001b[1;33m)\u001b[0m\u001b[1;33m)\u001b[0m\u001b[1;33m\u001b[0m\u001b[1;33m\u001b[0m\u001b[0m\n\u001b[0;32m     12\u001b[0m         \u001b[0mindex\u001b[0m\u001b[1;33m+=\u001b[0m \u001b[1;36m1\u001b[0m\u001b[1;33m\u001b[0m\u001b[1;33m\u001b[0m\u001b[0m\n\u001b[0;32m     13\u001b[0m \u001b[1;33m\u001b[0m\u001b[0m\n",
      "\u001b[1;32mc:\\Users\\MADic\\anaconda3\\envs\\environment-1\\Lib\\site-packages\\pandas\\core\\generic.py\u001b[0m in \u001b[0;36m?\u001b[1;34m(self, name)\u001b[0m\n\u001b[0;32m   6292\u001b[0m             \u001b[1;32mand\u001b[0m \u001b[0mname\u001b[0m \u001b[1;32mnot\u001b[0m \u001b[1;32min\u001b[0m \u001b[0mself\u001b[0m\u001b[1;33m.\u001b[0m\u001b[0m_accessors\u001b[0m\u001b[1;33m\u001b[0m\u001b[1;33m\u001b[0m\u001b[0m\n\u001b[0;32m   6293\u001b[0m             \u001b[1;32mand\u001b[0m \u001b[0mself\u001b[0m\u001b[1;33m.\u001b[0m\u001b[0m_info_axis\u001b[0m\u001b[1;33m.\u001b[0m\u001b[0m_can_hold_identifiers_and_holds_name\u001b[0m\u001b[1;33m(\u001b[0m\u001b[0mname\u001b[0m\u001b[1;33m)\u001b[0m\u001b[1;33m\u001b[0m\u001b[1;33m\u001b[0m\u001b[0m\n\u001b[0;32m   6294\u001b[0m         \u001b[1;33m)\u001b[0m\u001b[1;33m:\u001b[0m\u001b[1;33m\u001b[0m\u001b[1;33m\u001b[0m\u001b[0m\n\u001b[0;32m   6295\u001b[0m             \u001b[1;32mreturn\u001b[0m \u001b[0mself\u001b[0m\u001b[1;33m[\u001b[0m\u001b[0mname\u001b[0m\u001b[1;33m]\u001b[0m\u001b[1;33m\u001b[0m\u001b[1;33m\u001b[0m\u001b[0m\n\u001b[1;32m-> 6296\u001b[1;33m         \u001b[1;32mreturn\u001b[0m \u001b[0mobject\u001b[0m\u001b[1;33m.\u001b[0m\u001b[0m__getattribute__\u001b[0m\u001b[1;33m(\u001b[0m\u001b[0mself\u001b[0m\u001b[1;33m,\u001b[0m \u001b[0mname\u001b[0m\u001b[1;33m)\u001b[0m\u001b[1;33m\u001b[0m\u001b[1;33m\u001b[0m\u001b[0m\n\u001b[0m",
      "\u001b[1;31mAttributeError\u001b[0m: 'DataFrame' object has no attribute 'read_csv'"
     ]
    }
   ],
   "source": [
    "# Optional Exercise: find the three mean RTs separately for each type of trial (this\n",
    "# one is a little more advanced)\n",
    "mean = []\n",
    "index = 1\n",
    "for name in os.listdir(data_dir):\n",
    "    is_subject = str.startswith(name,'sub-')  # Test the name\n",
    "    if is_subject:\n",
    "        filepath = os.path.join(data_dir,f'sub-{index}',f'sub-{index}_task-class_beh.csv')\n",
    "        print(f'Loading data at {filepath}')\n",
    "        df = df.read_csv(filepath)   # Read the correct csv file.\n",
    "        z.append(df[\"ReactionTime\"].mean())\n",
    "        index+= 1\n",
    "        \n",
    "for i in range(3):\n",
    "    print(f\"The Reaction Time of sub-{i+1} is {mean[i]}\")\n",
    "        "
   ]
  },
  {
   "cell_type": "code",
   "execution_count": null,
   "id": "c9492309-9ca1-48a3-8c2c-ca85556841e3",
   "metadata": {},
   "outputs": [],
   "source": [
    "# Optional Exercise: find the two mean RTs separately for correct and incorrect\n",
    "# trials (this one is harder still, but follows from the previous exercise)"
   ]
  },
  {
   "cell_type": "markdown",
   "id": "8f03d13a-0ab3-42c1-ac83-f4400e2d27ce",
   "metadata": {},
   "source": [
    "## Paths for loading code\n",
    "\n",
    "Sometimes we'd prefer to use our own custom code across multiple notebooks, for example to do some standardized data loading or pre-processing. We then put that code into a module (bassically just a `.py` file) or package, and then `import` it in the notebook.\n",
    "\n",
    "However, the python interpreter needs to know where to look for that code. It searches a \"path list\", that is automatically set when python is launched. "
   ]
  },
  {
   "cell_type": "code",
   "execution_count": null,
   "id": "a2442c52-a57a-4368-af21-c2c902fbd482",
   "metadata": {},
   "outputs": [],
   "source": [
    "import sys  # Access python system properties"
   ]
  },
  {
   "cell_type": "code",
   "execution_count": null,
   "id": "3354da51-a69b-4e68-8fbe-dc982b874da8",
   "metadata": {},
   "outputs": [],
   "source": [
    "path_list = sys.path\n",
    "\n",
    "print('Python will search for code in the following directories (in order):\\n')\n",
    "for path in path_list:\n",
    "    print(path)"
   ]
  },
  {
   "cell_type": "markdown",
   "id": "3733a23f-026a-4404-b6bb-9873b49e3cb0",
   "metadata": {},
   "source": [
    "Note the empty line (it is not missing, it is actually an empty string). Python interprets the empty string as meaning whatever the current working directory is.\n",
    "\n",
    "We thus have several choices to load our code:\n",
    "- Put the module in the same directory as the notebook\n",
    "- Change the working directory to wherever the module is\n",
    "- Change the system path to include the location of the module\n",
    "- Package the module in a way that can be placed in a \"global\" location\n",
    "\n",
    "There are many opinions about best practice, and it often depends on the details of your project (for example, how globally useful the extra code is, and how many people are sharing it). For code that will be reused often, making a package may be the best option, though it takes a little extra work.\n",
    "\n",
    "We will demonstrate a kind of hack that can be useful in simple situations: we change directories to where the code should be, import it, then change back to where we started."
   ]
  },
  {
   "cell_type": "code",
   "execution_count": null,
   "id": "5025bcd9-3b61-4c72-baca-1cd735435d85",
   "metadata": {},
   "outputs": [],
   "source": [
    "# First try to import with just the module name (will fail !)\n",
    "\n",
    "import datahandling as dh"
   ]
  },
  {
   "cell_type": "code",
   "execution_count": null,
   "id": "bb279e0e-014b-4055-973d-2388d0aca698",
   "metadata": {},
   "outputs": [],
   "source": [
    "# Hack to import code in another directory without changing the path list\n",
    "\n",
    "wd_orig = os.getcwd()\n",
    "\n",
    "wd_code = os.path.abspath( os.path.join('..','utils') )\n",
    "print(f'Attempt to load module in:\\n{wd_code}\\n')\n",
    "\n",
    "# We put in a try-except block so even if there's an error during import \n",
    "# we still get to code that will restore the working directory\n",
    "try:\n",
    "    os.chdir(wd_code)\n",
    "    import datahandling as dh\n",
    "    print('Import succeeded')\n",
    "except:  # If the try block crashes we end up here \n",
    "    print('Failed to load module; attempting to restore working directory ')\n",
    "\n",
    "os.chdir(wd_orig)"
   ]
  },
  {
   "cell_type": "code",
   "execution_count": null,
   "id": "41bbe2f6-f078-446d-872b-fdc4705e1ce1",
   "metadata": {},
   "outputs": [],
   "source": [
    "print(f'Current working directory is {os.getcwd()}')"
   ]
  },
  {
   "cell_type": "markdown",
   "id": "09e3e47d-ca18-4c05-953c-6104f68b9794",
   "metadata": {},
   "source": [
    "Now let's use the utilities in `datahandling` to load the data."
   ]
  },
  {
   "cell_type": "code",
   "execution_count": null,
   "id": "48629fac-2466-42fb-b7ae-8027453df509",
   "metadata": {},
   "outputs": [],
   "source": [
    "df2 = dh.load_subject(filepath)\n",
    "df2.info()"
   ]
  },
  {
   "cell_type": "code",
   "execution_count": null,
   "id": "acd23bb7-2fe9-4cfa-93d2-4c83bdebf143",
   "metadata": {},
   "outputs": [],
   "source": [
    "# Check that error handling in dh works as expected\n",
    "# This is a simple, informal example of using a \"unit test\"\n",
    "\n",
    "df3 = dh.load_subject('/nonsense/file/path') # Prints an error message\n",
    "assert df3 is None  # Nothing should happen"
   ]
  },
  {
   "cell_type": "code",
   "execution_count": null,
   "id": "d7ddd1c8-0a68-4c27-b217-ba9deaf2c298",
   "metadata": {},
   "outputs": [],
   "source": []
  },
  {
   "cell_type": "code",
   "execution_count": null,
   "id": "1941c984-17ee-47a1-ae6a-20f22fad5927",
   "metadata": {},
   "outputs": [],
   "source": []
  }
 ],
 "metadata": {
  "kernelspec": {
   "display_name": "Python 3 (ipykernel)",
   "language": "python",
   "name": "python3"
  },
  "language_info": {
   "codemirror_mode": {
    "name": "ipython",
    "version": 3
   },
   "file_extension": ".py",
   "mimetype": "text/x-python",
   "name": "python",
   "nbconvert_exporter": "python",
   "pygments_lexer": "ipython3",
   "version": "3.12.3"
  }
 },
 "nbformat": 4,
 "nbformat_minor": 5
}
